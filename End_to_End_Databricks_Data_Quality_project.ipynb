{
 "cells": [
  {
   "cell_type": "markdown",
   "metadata": {
    "application/vnd.databricks.v1+cell": {
     "cellMetadata": {
      "byteLimit": 2048000,
      "rowLimit": 10000
     },
     "inputWidgets": {},
     "nuid": "bb8ca636-0190-4e44-9e18-aa84cafc5b63",
     "showTitle": false,
     "title": ""
    }
   },
   "source": [
    "#Imports"
   ]
  },
  {
   "cell_type": "code",
   "execution_count": 0,
   "metadata": {
    "application/vnd.databricks.v1+cell": {
     "cellMetadata": {
      "byteLimit": 2048000,
      "rowLimit": 10000
     },
     "inputWidgets": {},
     "nuid": "21e5d7c6-a617-4851-bf57-c23973c8173a",
     "showTitle": false,
     "title": ""
    }
   },
   "outputs": [],
   "source": [
    "# imports\n",
    "from pyspark.sql.window import Window\n",
    "from pyspark.sql.functions import col, row_number,lit, date_format,DataFrame, current_timestamp\n",
    "from functools import reduce"
   ]
  },
  {
   "cell_type": "markdown",
   "metadata": {
    "application/vnd.databricks.v1+cell": {
     "cellMetadata": {
      "byteLimit": 2048000,
      "rowLimit": 10000
     },
     "inputWidgets": {},
     "nuid": "01ca453a-4712-4cc6-805a-c20449b24233",
     "showTitle": false,
     "title": ""
    }
   },
   "source": [
    "#Mount point"
   ]
  },
  {
   "cell_type": "code",
   "execution_count": 0,
   "metadata": {
    "application/vnd.databricks.v1+cell": {
     "cellMetadata": {
      "byteLimit": 2048000,
      "rowLimit": 10000
     },
     "inputWidgets": {},
     "nuid": "fc053ab3-fc25-4b04-a496-e6e7180dbe8a",
     "showTitle": false,
     "title": ""
    }
   },
   "outputs": [
    {
     "output_type": "stream",
     "name": "stdout",
     "output_type": "stream",
     "text": [
      "/mnt/dataquaility-data has been unmounted.\nOut[135]: True"
     ]
    }
   ],
   "source": [
    "# Unmounting if mount point exists\n",
    "dbutils.fs.unmount('/mnt/dataquaility-data')"
   ]
  },
  {
   "cell_type": "code",
   "execution_count": 0,
   "metadata": {
    "application/vnd.databricks.v1+cell": {
     "cellMetadata": {
      "byteLimit": 2048000,
      "rowLimit": 10000
     },
     "inputWidgets": {},
     "nuid": "0812a613-1ce3-4875-b515-017ee99b1915",
     "showTitle": false,
     "title": ""
    }
   },
   "outputs": [
    {
     "output_type": "stream",
     "name": "stdout",
     "output_type": "stream",
     "text": [
      "Out[136]: [MountInfo(mountPoint='/databricks-datasets', source='databricks-datasets', encryptionType='sse-s3'),\n MountInfo(mountPoint='/databricks/mlflow-tracking', source='databricks/mlflow-tracking', encryptionType='sse-s3'),\n MountInfo(mountPoint='/databricks-results', source='databricks-results', encryptionType='sse-s3'),\n MountInfo(mountPoint='/databricks/mlflow-registry', source='databricks/mlflow-registry', encryptionType='sse-s3'),\n MountInfo(mountPoint='/mnt/global', source='wasbs://global@blob0411new.blob.core.windows.net', encryptionType=''),\n MountInfo(mountPoint='/', source='DatabricksRoot', encryptionType='sse-s3')]"
     ]
    }
   ],
   "source": [
    "# Checking mount points available\n",
    "dbutils.fs.mounts()"
   ]
  },
  {
   "cell_type": "code",
   "execution_count": 0,
   "metadata": {
    "application/vnd.databricks.v1+cell": {
     "cellMetadata": {
      "byteLimit": 2048000,
      "rowLimit": 10000
     },
     "inputWidgets": {},
     "nuid": "bfb89f34-17c5-4347-9a12-11900052c079",
     "showTitle": false,
     "title": ""
    }
   },
   "outputs": [
    {
     "output_type": "stream",
     "name": "stdout",
     "output_type": "stream",
     "text": [
      "Out[137]: True"
     ]
    }
   ],
   "source": [
    "# Creating a mount point to a blob storage container in Azure Storage account \n",
    "dbutils.fs.mount(\n",
    "  source = \"wasbs://dataquaility-data@dbprojectblob0809.blob.core.windows.net\",\n",
    "  mount_point = \"/mnt/dataquaility-data\",\n",
    "  extra_configs = {\"fs.azure.account.key.dbprojectblob0809.blob.core.windows.net\":\"/VG83esTrKDB6HUns0kZuHDfPkZnoRVT42DZz2ajcpI3MSWIrnq20zOSm48Xvat9K/zQjDeDwf+t+ASte9cNRQ==\"}) # Blob storage Accesskey"
   ]
  },
  {
   "cell_type": "markdown",
   "metadata": {
    "application/vnd.databricks.v1+cell": {
     "cellMetadata": {
      "byteLimit": 2048000,
      "rowLimit": 10000
     },
     "inputWidgets": {},
     "nuid": "a53f4495-0d36-4f5b-ba08-11ad849e40e7",
     "showTitle": false,
     "title": ""
    }
   },
   "source": [
    "#Notebook Paramaters"
   ]
  },
  {
   "cell_type": "code",
   "execution_count": 0,
   "metadata": {
    "application/vnd.databricks.v1+cell": {
     "cellMetadata": {
      "byteLimit": 2048000,
      "rowLimit": 10000
     },
     "inputWidgets": {},
     "nuid": "be733288-ab23-4144-b02b-2b4471ad7ee3",
     "showTitle": false,
     "title": ""
    }
   },
   "outputs": [],
   "source": [
    "# Creating Notebook Parameters to automate and easily process on a daily basis\n",
    "dbutils.widgets.text(\"config_filepath\",\"\")\n",
    "dbutils.widgets.text(\"processed_date\",\"\")"
   ]
  },
  {
   "cell_type": "code",
   "execution_count": 0,
   "metadata": {
    "application/vnd.databricks.v1+cell": {
     "cellMetadata": {
      "byteLimit": 2048000,
      "rowLimit": 10000
     },
     "inputWidgets": {},
     "nuid": "ad569527-c92f-45aa-83a0-8ff6f31ac279",
     "showTitle": false,
     "title": ""
    }
   },
   "outputs": [],
   "source": [
    "# Storing the notebook parameters received in variables\n",
    "config_filepath = dbutils.widgets.get(\"config_filepath\")\n",
    "processed_date = dbutils.widgets.get(\"processed_date\")"
   ]
  },
  {
   "cell_type": "code",
   "execution_count": 0,
   "metadata": {
    "application/vnd.databricks.v1+cell": {
     "cellMetadata": {
      "byteLimit": 2048000,
      "rowLimit": 10000
     },
     "inputWidgets": {},
     "nuid": "1bde40b0-fbb5-461e-85b6-a029be0caf7a",
     "showTitle": false,
     "title": ""
    }
   },
   "outputs": [
    {
     "output_type": "stream",
     "name": "stdout",
     "output_type": "stream",
     "text": [
      "/mnt/dataquaility-data/india/config/orders.json\n2022/07/04\n"
     ]
    }
   ],
   "source": [
    "print(config_filepath)\n",
    "print(processed_date)"
   ]
  },
  {
   "cell_type": "markdown",
   "metadata": {
    "application/vnd.databricks.v1+cell": {
     "cellMetadata": {
      "byteLimit": 2048000,
      "rowLimit": 10000
     },
     "inputWidgets": {},
     "nuid": "15d699cb-681f-4bcc-9bb2-1d767abe3dc7",
     "showTitle": false,
     "title": ""
    }
   },
   "source": [
    "# Config JSON document"
   ]
  },
  {
   "cell_type": "code",
   "execution_count": 0,
   "metadata": {
    "application/vnd.databricks.v1+cell": {
     "cellMetadata": {
      "byteLimit": 2048000,
      "rowLimit": 10000
     },
     "inputWidgets": {},
     "nuid": "a6bd7425-cd39-4ce0-a648-1028ed248cca",
     "showTitle": false,
     "title": ""
    }
   },
   "outputs": [
    {
     "output_type": "stream",
     "name": "stdout",
     "output_type": "stream",
     "text": [
      "orders\n"
     ]
    }
   ],
   "source": [
    "# Extracting the table name from config_filepath string variable\n",
    "tablename = config_filepath.split(\"/\")[-1].split(\".\")[-2]\n",
    "print(tablename)"
   ]
  },
  {
   "cell_type": "code",
   "execution_count": 0,
   "metadata": {
    "application/vnd.databricks.v1+cell": {
     "cellMetadata": {
      "byteLimit": 2048000,
      "rowLimit": 10000
     },
     "inputWidgets": {},
     "nuid": "990fdd4d-5dca-4fa5-b3a2-8ffd3a45abea",
     "showTitle": false,
     "title": ""
    }
   },
   "outputs": [
    {
     "output_type": "stream",
     "name": "stdout",
     "output_type": "stream",
     "text": [
      "{'auditfile': '/mnt/dataquaility-data/india/auditdata/orders/', 'cols_datatype': [Row(orderdate='date', orderprice='int')], 'dateformatchecks': ['orderdate'], 'duplicate_check': 'yes', 'no_negative_value': ['orderprice'], 'null_check': ['ordername', 'email'], 'pendingfile': '/mnt/dataquaility-data/india/rejected/orders/', 'required_cols': ['ordername', 'email', 'orderaddress', 'orderdate', 'orderprice'], 'sourcefile': '/mnt/dataquaility-data/india/bronze/orders/', 'targetfile': '/mnt/dataquaility-data/india/silver/orders/'}\n"
     ]
    }
   ],
   "source": [
    "# Reading the Json file\n",
    "# converting the json file to a dictionary.\n",
    "df = spark.read.format(\"json\").option(\"multiLine\", True).load(config_filepath)\n",
    "parameters = df.rdd.map(lambda x: x.asDict()).first()\n",
    "print(parameters)"
   ]
  },
  {
   "cell_type": "code",
   "execution_count": 0,
   "metadata": {
    "application/vnd.databricks.v1+cell": {
     "cellMetadata": {
      "byteLimit": 2048000,
      "rowLimit": 10000
     },
     "inputWidgets": {},
     "nuid": "4da3b85d-2fae-46a2-b7a3-05211da2d864",
     "showTitle": false,
     "title": ""
    }
   },
   "outputs": [],
   "source": [
    "# Creating variables for each parameter in the dictionary\n",
    "source_filelocation = parameters['sourcefile']\n",
    "target_filelocation = parameters['targetfile']\n",
    "pending_filelocation = parameters['pendingfile']\n",
    "audit_filelocation = parameters['auditfile']\n",
    "duplicatedcheck = parameters['duplicate_check']\n",
    "selectcols = parameters['required_cols']\n",
    "nullcheck = parameters['null_check']\n",
    "castcols = parameters['cols_datatype'][0].asDict()\n",
    "dateformatcheck = parameters['dateformatchecks']\n",
    "negativecheck = parameters['no_negative_value']"
   ]
  },
  {
   "cell_type": "code",
   "execution_count": 0,
   "metadata": {
    "application/vnd.databricks.v1+cell": {
     "cellMetadata": {
      "byteLimit": 2048000,
      "rowLimit": 10000
     },
     "inputWidgets": {},
     "nuid": "291cb145-4e1b-4fd8-a488-494e1341ecfa",
     "showTitle": false,
     "title": ""
    }
   },
   "outputs": [],
   "source": [
    "# A function which returns the file location path with processed_date\n",
    "def append_date(url, pdate):\n",
    "    return url+pdate"
   ]
  },
  {
   "cell_type": "code",
   "execution_count": 0,
   "metadata": {
    "application/vnd.databricks.v1+cell": {
     "cellMetadata": {
      "byteLimit": 2048000,
      "rowLimit": 10000
     },
     "inputWidgets": {},
     "nuid": "3c7c51f6-f6fc-4538-a42b-faa567fc01f0",
     "showTitle": false,
     "title": ""
    }
   },
   "outputs": [],
   "source": [
    "# Complete path\n",
    "source_path = append_date(source_filelocation,processed_date)\n",
    "target_path = append_date(target_filelocation,processed_date)\n",
    "pending_path = append_date(pending_filelocation,processed_date)\n",
    "audit_path = append_date(audit_filelocation,processed_date)"
   ]
  },
  {
   "cell_type": "code",
   "execution_count": 0,
   "metadata": {
    "application/vnd.databricks.v1+cell": {
     "cellMetadata": {
      "byteLimit": 2048000,
      "rowLimit": 10000
     },
     "inputWidgets": {},
     "nuid": "da2c8e2a-048d-4935-a5e8-2e8a5f8c0b78",
     "showTitle": false,
     "title": ""
    }
   },
   "outputs": [
    {
     "output_type": "stream",
     "name": "stdout",
     "output_type": "stream",
     "text": [
      "Out[146]: '/mnt/dataquaility-data/india/bronze/orders/2022/07/04'"
     ]
    }
   ],
   "source": [
    "source_path"
   ]
  },
  {
   "cell_type": "markdown",
   "metadata": {
    "application/vnd.databricks.v1+cell": {
     "cellMetadata": {
      "byteLimit": 2048000,
      "rowLimit": 10000
     },
     "inputWidgets": {},
     "nuid": "32fbabd8-e0c6-4773-825f-6afb65b79d4d",
     "showTitle": false,
     "title": ""
    }
   },
   "source": [
    "# Loading data from source"
   ]
  },
  {
   "cell_type": "code",
   "execution_count": 0,
   "metadata": {
    "application/vnd.databricks.v1+cell": {
     "cellMetadata": {
      "byteLimit": 2048000,
      "rowLimit": 10000
     },
     "inputWidgets": {},
     "nuid": "2ca388f6-a2c0-418d-b30c-4ab7e2fa0495",
     "showTitle": false,
     "title": ""
    }
   },
   "outputs": [
    {
     "output_type": "stream",
     "name": "stdout",
     "output_type": "stream",
     "text": [
      "+-------+---------+-----------+----------+---------------+------------+\n|orderid|ordername|  orderdate|orderprice|          email|orderaddress|\n+-------+---------+-----------+----------+---------------+------------+\n|      1|   Laptop| 2020-10-10|        10|  abc@gmail.com|   hyderabad|\n|      2|     null| 2020-10-11|        20|  xyz@gmail.com|   bangalore|\n|      2|     Book| 2022-10-10|        30|  xxx@gmail.com|        pune|\n|      3|       TV| 2021-09-10|       -40|  yyy@gmail.com|       delhi|\n|      5|    watch| 2020-08-10|        50|  zzz@gmail.com|      mumbai|\n|      1|   Laptop| 2020-10-10|        10|  abc@gmail.com|   hyderabad|\n|      6|   mobile|02-01-20233|        40|abbbb@gmail.com|       noida|\n+-------+---------+-----------+----------+---------------+------------+\n\n"
     ]
    }
   ],
   "source": [
    "# Reading orders.csv source file\n",
    "# Storing the number of records present in a variable\n",
    "df_csv = spark.read.format(\"csv\").option(\"header\", True).load(source_path)\n",
    "df_csv.show()\n",
    "sourcecount = df_csv.count()"
   ]
  },
  {
   "cell_type": "markdown",
   "metadata": {
    "application/vnd.databricks.v1+cell": {
     "cellMetadata": {
      "byteLimit": 2048000,
      "rowLimit": 10000
     },
     "inputWidgets": {},
     "nuid": "9317f55a-2b2c-4a7b-a4e0-e058bba998c8",
     "showTitle": false,
     "title": ""
    }
   },
   "source": [
    "# Duplicate check"
   ]
  },
  {
   "cell_type": "code",
   "execution_count": 0,
   "metadata": {
    "application/vnd.databricks.v1+cell": {
     "cellMetadata": {
      "byteLimit": 2048000,
      "rowLimit": 10000
     },
     "inputWidgets": {},
     "nuid": "4ea98994-8f05-4b87-a886-3b84323edae6",
     "showTitle": false,
     "title": ""
    }
   },
   "outputs": [
    {
     "output_type": "stream",
     "name": "stdout",
     "output_type": "stream",
     "text": [
      "+-------+---------+-----------+----------+---------------+------------+----------+\n|orderid|ordername|  orderdate|orderprice|          email|orderaddress|row_number|\n+-------+---------+-----------+----------+---------------+------------+----------+\n|      1|   Laptop| 2020-10-10|        10|  abc@gmail.com|   hyderabad|         1|\n|      1|   Laptop| 2020-10-10|        10|  abc@gmail.com|   hyderabad|         2|\n|      2|     null| 2020-10-11|        20|  xyz@gmail.com|   bangalore|         1|\n|      2|     Book| 2022-10-10|        30|  xxx@gmail.com|        pune|         1|\n|      3|       TV| 2021-09-10|       -40|  yyy@gmail.com|       delhi|         1|\n|      5|    watch| 2020-08-10|        50|  zzz@gmail.com|      mumbai|         1|\n|      6|   mobile|02-01-20233|        40|abbbb@gmail.com|       noida|         1|\n+-------+---------+-----------+----------+---------------+------------+----------+\n\n"
     ]
    }
   ],
   "source": [
    "# duplicate records check\n",
    "cols = df_csv.columns\n",
    "windowspec = Window.partitionBy(*cols).orderBy(cols[0])\n",
    "df_csv1 = df_csv.select('*', row_number().over(windowspec).alias(\"row_number\"))\n",
    "df_csv1.show()"
   ]
  },
  {
   "cell_type": "code",
   "execution_count": 0,
   "metadata": {
    "application/vnd.databricks.v1+cell": {
     "cellMetadata": {
      "byteLimit": 2048000,
      "rowLimit": 10000
     },
     "inputWidgets": {},
     "nuid": "4cc8e10b-95fb-47d9-9352-c587b58abc8b",
     "showTitle": false,
     "title": ""
    }
   },
   "outputs": [],
   "source": [
    "# Empty list to store the rejected records\n",
    "pending_records_list = []"
   ]
  },
  {
   "cell_type": "code",
   "execution_count": 0,
   "metadata": {
    "application/vnd.databricks.v1+cell": {
     "cellMetadata": {
      "byteLimit": 2048000,
      "rowLimit": 10000
     },
     "inputWidgets": {},
     "nuid": "02f70e5e-4f3b-42c9-94d9-a077ae9afd8a",
     "showTitle": false,
     "title": ""
    }
   },
   "outputs": [
    {
     "output_type": "stream",
     "name": "stdout",
     "output_type": "stream",
     "text": [
      "+-------+---------+----------+----------+-------------+------------+----------------+\n|orderid|ordername| orderdate|orderprice|        email|orderaddress|   reject_reason|\n+-------+---------+----------+----------+-------------+------------+----------------+\n|      1|   Laptop|2020-10-10|        10|abc@gmail.com|   hyderabad|Duplicate record|\n+-------+---------+----------+----------+-------------+------------+----------------+\n\n"
     ]
    }
   ],
   "source": [
    "# filtering for duplicate reacords\n",
    "df_duplicates = df_csv1.filter(col(\"row_number\") > 1).drop(\"row_number\").withColumn(\"reject_reason\", lit(\"Duplicate record\"))\n",
    "df_duplicates.show()\n",
    "pending_records_list.append(df_duplicates)"
   ]
  },
  {
   "cell_type": "code",
   "execution_count": 0,
   "metadata": {
    "application/vnd.databricks.v1+cell": {
     "cellMetadata": {
      "byteLimit": 2048000,
      "rowLimit": 10000
     },
     "inputWidgets": {},
     "nuid": "3faed5f7-4354-4603-abc3-7ec28af208a2",
     "showTitle": false,
     "title": ""
    }
   },
   "outputs": [
    {
     "output_type": "stream",
     "name": "stdout",
     "output_type": "stream",
     "text": [
      "Out[151]: 6"
     ]
    }
   ],
   "source": [
    "# Filter for only unique records\n",
    "df_unique = df_csv1.filter(col(\"row_number\") == 1).drop(\"row_number\")\n",
    "df_unique.count()"
   ]
  },
  {
   "cell_type": "markdown",
   "metadata": {
    "application/vnd.databricks.v1+cell": {
     "cellMetadata": {
      "byteLimit": 2048000,
      "rowLimit": 10000
     },
     "inputWidgets": {},
     "nuid": "ab304035-f1c2-4869-9edd-550a3051aacc",
     "showTitle": false,
     "title": ""
    }
   },
   "source": [
    "# NULL check"
   ]
  },
  {
   "cell_type": "code",
   "execution_count": 0,
   "metadata": {
    "application/vnd.databricks.v1+cell": {
     "cellMetadata": {
      "byteLimit": 2048000,
      "rowLimit": 10000
     },
     "inputWidgets": {},
     "nuid": "f5c236d7-2df9-4d38-ac8c-0b7aa6a5d8c7",
     "showTitle": false,
     "title": ""
    }
   },
   "outputs": [],
   "source": [
    "# null check on columns\n",
    "if len(nullcheck)!= 0:\n",
    "    for column in nullcheck:\n",
    "        df_null = df_unique.filter(col(column).isNull()).withColumn(\"reject_reason\",lit(\"Null Record\"))\n",
    "        pending_records_list.append(df_null)"
   ]
  },
  {
   "cell_type": "markdown",
   "metadata": {
    "application/vnd.databricks.v1+cell": {
     "cellMetadata": {
      "byteLimit": 2048000,
      "rowLimit": 10000
     },
     "inputWidgets": {},
     "nuid": "6603966d-1c52-4411-8e32-340e9ec183a7",
     "showTitle": false,
     "title": ""
    }
   },
   "source": [
    "# Negative Check"
   ]
  },
  {
   "cell_type": "code",
   "execution_count": 0,
   "metadata": {
    "application/vnd.databricks.v1+cell": {
     "cellMetadata": {
      "byteLimit": 2048000,
      "rowLimit": 10000
     },
     "inputWidgets": {},
     "nuid": "0e387a31-1099-4875-b9b7-cc30dbd7521d",
     "showTitle": false,
     "title": ""
    }
   },
   "outputs": [],
   "source": [
    "# negative check on columns\n",
    "if len(negativecheck)!= 0:\n",
    "    for column in negativecheck:\n",
    "        df_negative = df_unique.filter(col(column) < 0).withColumn(\"reject_reason\", lit(\"Negative Value\"))\n",
    "        pending_records_list.append(df_negative)"
   ]
  },
  {
   "cell_type": "markdown",
   "metadata": {
    "application/vnd.databricks.v1+cell": {
     "cellMetadata": {
      "byteLimit": 2048000,
      "rowLimit": 10000
     },
     "inputWidgets": {},
     "nuid": "9d7ed5c7-bc88-4cd1-9cf7-7a1488a8f3b7",
     "showTitle": false,
     "title": ""
    }
   },
   "source": [
    "#Date Format check"
   ]
  },
  {
   "cell_type": "code",
   "execution_count": 0,
   "metadata": {
    "application/vnd.databricks.v1+cell": {
     "cellMetadata": {
      "byteLimit": 2048000,
      "rowLimit": 10000
     },
     "inputWidgets": {},
     "nuid": "6ed1ae14-3341-4d14-8049-7484256c208f",
     "showTitle": false,
     "title": ""
    }
   },
   "outputs": [],
   "source": [
    "# date format check\n",
    "if len(dateformatcheck) != 0:\n",
    "    for column in dateformatcheck:\n",
    "        df_datefmt = df_unique.select(\"*\",date_format(column, 'yyyy-MM-dd').alias(\"orderdate1\"))\\\n",
    "            .filter(col(\"orderdate1\").isNull()).drop('orderdate1')\\\n",
    "            .withColumn('reject_reason',lit(\"Incorrect Dateformat\"))\n",
    "        pending_records_list.append(df_datefmt)"
   ]
  },
  {
   "cell_type": "markdown",
   "metadata": {
    "application/vnd.databricks.v1+cell": {
     "cellMetadata": {
      "byteLimit": 2048000,
      "rowLimit": 10000
     },
     "inputWidgets": {},
     "nuid": "740b928d-c624-4d2e-b90d-ab5701030d18",
     "showTitle": false,
     "title": ""
    }
   },
   "source": [
    "# Rejected records"
   ]
  },
  {
   "cell_type": "code",
   "execution_count": 0,
   "metadata": {
    "application/vnd.databricks.v1+cell": {
     "cellMetadata": {
      "byteLimit": 2048000,
      "rowLimit": 10000
     },
     "inputWidgets": {},
     "nuid": "79e1bb38-84e5-48ad-a275-797753750c3a",
     "showTitle": false,
     "title": ""
    }
   },
   "outputs": [
    {
     "output_type": "display_data",
     "data": {
      "text/html": [
       "<style scoped>\n",
       "  .table-result-container {\n",
       "    max-height: 300px;\n",
       "    overflow: auto;\n",
       "  }\n",
       "  table, th, td {\n",
       "    border: 1px solid black;\n",
       "    border-collapse: collapse;\n",
       "  }\n",
       "  th, td {\n",
       "    padding: 5px;\n",
       "  }\n",
       "  th {\n",
       "    text-align: left;\n",
       "  }\n",
       "</style><div class='table-result-container'><table class='table-result'><thead style='background-color: white'><tr><th>orderid</th><th>ordername</th><th>orderdate</th><th>orderprice</th><th>email</th><th>orderaddress</th><th>reject_reason</th></tr></thead><tbody><tr><td>1</td><td>Laptop</td><td>2020-10-10</td><td>10</td><td>abc@gmail.com</td><td>hyderabad</td><td>Duplicate record</td></tr><tr><td>2</td><td>null</td><td>2020-10-11</td><td>20</td><td>xyz@gmail.com</td><td>bangalore</td><td>Null Record</td></tr><tr><td>3</td><td>TV</td><td>2021-09-10</td><td>-40</td><td>yyy@gmail.com</td><td>delhi</td><td>Negative Value</td></tr><tr><td>6</td><td>mobile</td><td>02-01-20233</td><td>40</td><td>abbbb@gmail.com</td><td>noida</td><td>Incorrect Dateformat</td></tr></tbody></table></div>"
      ]
     },
     "metadata": {
      "application/vnd.databricks.v1+output": {
       "addedWidgets": {},
       "aggData": [],
       "aggError": "",
       "aggOverflow": false,
       "aggSchema": [],
       "aggSeriesLimitReached": false,
       "aggType": "",
       "arguments": {},
       "columnCustomDisplayInfos": {},
       "data": [
        [
         "1",
         "Laptop",
         "2020-10-10",
         "10",
         "abc@gmail.com",
         "hyderabad",
         "Duplicate record"
        ],
        [
         "2",
         null,
         "2020-10-11",
         "20",
         "xyz@gmail.com",
         "bangalore",
         "Null Record"
        ],
        [
         "3",
         "TV",
         "2021-09-10",
         "-40",
         "yyy@gmail.com",
         "delhi",
         "Negative Value"
        ],
        [
         "6",
         "mobile",
         "02-01-20233",
         "40",
         "abbbb@gmail.com",
         "noida",
         "Incorrect Dateformat"
        ]
       ],
       "datasetInfos": [],
       "dbfsResultPath": null,
       "isJsonSchema": true,
       "metadata": {},
       "overflow": false,
       "plotOptions": {
        "customPlotOptions": {},
        "displayType": "table",
        "pivotAggregation": null,
        "pivotColumns": null,
        "xColumns": null,
        "yColumns": null
       },
       "removedWidgets": [],
       "schema": [
        {
         "metadata": "{}",
         "name": "orderid",
         "type": "\"string\""
        },
        {
         "metadata": "{}",
         "name": "ordername",
         "type": "\"string\""
        },
        {
         "metadata": "{}",
         "name": "orderdate",
         "type": "\"string\""
        },
        {
         "metadata": "{}",
         "name": "orderprice",
         "type": "\"string\""
        },
        {
         "metadata": "{}",
         "name": "email",
         "type": "\"string\""
        },
        {
         "metadata": "{}",
         "name": "orderaddress",
         "type": "\"string\""
        },
        {
         "metadata": "{}",
         "name": "reject_reason",
         "type": "\"string\""
        }
       ],
       "type": "table"
      }
     },
     "output_type": "display_data"
    }
   ],
   "source": [
    "# converting pending_records_list to a Dataframe\n",
    "df_reject = reduce(DataFrame.union,pending_records_list)\n",
    "reject_count = df_reject.count()\n",
    "display(df_reject)"
   ]
  },
  {
   "cell_type": "markdown",
   "metadata": {
    "application/vnd.databricks.v1+cell": {
     "cellMetadata": {
      "byteLimit": 2048000,
      "rowLimit": 10000
     },
     "inputWidgets": {},
     "nuid": "399b3474-c40b-4d03-aa30-be8075b5f514",
     "showTitle": false,
     "title": ""
    }
   },
   "source": [
    "# Good Records"
   ]
  },
  {
   "cell_type": "code",
   "execution_count": 0,
   "metadata": {
    "application/vnd.databricks.v1+cell": {
     "cellMetadata": {
      "byteLimit": 2048000,
      "rowLimit": 10000
     },
     "inputWidgets": {},
     "nuid": "ed13ac67-22a7-4e54-97db-3ffd432339be",
     "showTitle": false,
     "title": ""
    }
   },
   "outputs": [
    {
     "output_type": "stream",
     "name": "stdout",
     "output_type": "stream",
     "text": [
      "+-------+---------+----------+----------+-------------+------------+\n|orderid|ordername| orderdate|orderprice|        email|orderaddress|\n+-------+---------+----------+----------+-------------+------------+\n|      1|   Laptop|2020-10-10|        10|abc@gmail.com|   hyderabad|\n|      5|    watch|2020-08-10|        50|zzz@gmail.com|      mumbai|\n|      2|     Book|2022-10-10|        30|xxx@gmail.com|        pune|\n+-------+---------+----------+----------+-------------+------------+\n\n"
     ]
    }
   ],
   "source": [
    "# Good records\n",
    "df_final = df_csv.exceptAll(df_reject.drop(\"reject_reason\"))\n",
    "df_final.show()"
   ]
  },
  {
   "cell_type": "markdown",
   "metadata": {
    "application/vnd.databricks.v1+cell": {
     "cellMetadata": {
      "byteLimit": 2048000,
      "rowLimit": 10000
     },
     "inputWidgets": {},
     "nuid": "eff4bc62-5a2c-42ab-b624-15db2f85dcbe",
     "showTitle": false,
     "title": ""
    }
   },
   "source": [
    "#Datatype Check"
   ]
  },
  {
   "cell_type": "code",
   "execution_count": 0,
   "metadata": {
    "application/vnd.databricks.v1+cell": {
     "cellMetadata": {
      "byteLimit": 2048000,
      "rowLimit": 10000
     },
     "inputWidgets": {},
     "nuid": "aa605d22-a02f-4acb-b0a8-6ff0b7ef21d6",
     "showTitle": false,
     "title": ""
    }
   },
   "outputs": [
    {
     "output_type": "stream",
     "name": "stdout",
     "output_type": "stream",
     "text": [
      "Out[157]: dict_items([('orderdate', 'date'), ('orderprice', 'int')])"
     ]
    }
   ],
   "source": [
    "castcols.items()"
   ]
  },
  {
   "cell_type": "code",
   "execution_count": 0,
   "metadata": {
    "application/vnd.databricks.v1+cell": {
     "cellMetadata": {
      "byteLimit": 2048000,
      "rowLimit": 10000
     },
     "inputWidgets": {},
     "nuid": "7ae51027-0408-41a1-8a70-9917f82e293f",
     "showTitle": false,
     "title": ""
    }
   },
   "outputs": [
    {
     "output_type": "display_data",
     "data": {
      "text/plain": [
       "\u001B[0;31m---------------------------------------------------------------------------\u001B[0m\n",
       "\u001B[0;31mNameError\u001B[0m                                 Traceback (most recent call last)\n",
       "File \u001B[0;32m<command-1607880844680047>:4\u001B[0m\n",
       "\u001B[1;32m      2\u001B[0m \u001B[38;5;28;01mif\u001B[39;00m \u001B[38;5;28mlen\u001B[39m(castcols) \u001B[38;5;241m>\u001B[39m \u001B[38;5;241m0\u001B[39m:\n",
       "\u001B[1;32m      3\u001B[0m     \u001B[38;5;28;01mfor\u001B[39;00m key, value \u001B[38;5;129;01min\u001B[39;00m castcols\u001B[38;5;241m.\u001B[39mitems():\n",
       "\u001B[0;32m----> 4\u001B[0m         df_final \u001B[38;5;241m=\u001B[39m df_final\u001B[38;5;241m.\u001B[39mwithColumn(\u001B[43mk\u001B[49m,col(k)\u001B[38;5;241m.\u001B[39mcast(v))\n",
       "\n",
       "\u001B[0;31mNameError\u001B[0m: name 'k' is not defined"
      ]
     },
     "metadata": {
      "application/vnd.databricks.v1+output": {
       "arguments": {},
       "data": "\u001B[0;31m---------------------------------------------------------------------------\u001B[0m\n\u001B[0;31mNameError\u001B[0m                                 Traceback (most recent call last)\nFile \u001B[0;32m<command-1607880844680047>:4\u001B[0m\n\u001B[1;32m      2\u001B[0m \u001B[38;5;28;01mif\u001B[39;00m \u001B[38;5;28mlen\u001B[39m(castcols) \u001B[38;5;241m>\u001B[39m \u001B[38;5;241m0\u001B[39m:\n\u001B[1;32m      3\u001B[0m     \u001B[38;5;28;01mfor\u001B[39;00m key, value \u001B[38;5;129;01min\u001B[39;00m castcols\u001B[38;5;241m.\u001B[39mitems():\n\u001B[0;32m----> 4\u001B[0m         df_final \u001B[38;5;241m=\u001B[39m df_final\u001B[38;5;241m.\u001B[39mwithColumn(\u001B[43mk\u001B[49m,col(k)\u001B[38;5;241m.\u001B[39mcast(v))\n\n\u001B[0;31mNameError\u001B[0m: name 'k' is not defined",
       "errorSummary": "<span class='ansi-red-fg'>NameError</span>: name 'k' is not defined",
       "errorTraceType": "ansi",
       "metadata": {},
       "type": "ipynbError"
      }
     },
     "output_type": "display_data"
    }
   ],
   "source": [
    "# Datatype conversion\n",
    "if len(castcols) > 0:\n",
    "    for key, value in castcols.items():\n",
    "        df_final = df_final.withColumn(key,col(key).cast(v))"
   ]
  },
  {
   "cell_type": "markdown",
   "metadata": {
    "application/vnd.databricks.v1+cell": {
     "cellMetadata": {
      "byteLimit": 2048000,
      "rowLimit": 10000
     },
     "inputWidgets": {},
     "nuid": "019c35c4-bcda-4e9d-a3ac-cb1e0e715753",
     "showTitle": false,
     "title": ""
    }
   },
   "source": [
    "# Final Dataframe"
   ]
  },
  {
   "cell_type": "code",
   "execution_count": 0,
   "metadata": {
    "application/vnd.databricks.v1+cell": {
     "cellMetadata": {
      "byteLimit": 2048000,
      "rowLimit": 10000
     },
     "inputWidgets": {},
     "nuid": "8df72c30-124a-4b1f-b5d8-a97f3392271b",
     "showTitle": false,
     "title": ""
    }
   },
   "outputs": [
    {
     "output_type": "stream",
     "name": "stdout",
     "output_type": "stream",
     "text": [
      "+-------+---------+----------+----------+-------------+------------+\n|orderid|ordername| orderdate|orderprice|        email|orderaddress|\n+-------+---------+----------+----------+-------------+------------+\n|      1|   Laptop|2020-10-10|        10|abc@gmail.com|   hyderabad|\n|      5|    watch|2020-08-10|        50|zzz@gmail.com|      mumbai|\n|      2|     Book|2022-10-10|        30|xxx@gmail.com|        pune|\n+-------+---------+----------+----------+-------------+------------+\n\n"
     ]
    }
   ],
   "source": [
    "df_final.show()"
   ]
  },
  {
   "cell_type": "code",
   "execution_count": 0,
   "metadata": {
    "application/vnd.databricks.v1+cell": {
     "cellMetadata": {
      "byteLimit": 2048000,
      "rowLimit": 10000
     },
     "inputWidgets": {},
     "nuid": "541f119d-7c3d-4ac3-ac5e-f91fd028df64",
     "showTitle": false,
     "title": ""
    }
   },
   "outputs": [],
   "source": [
    "writtencount = df_final.count()"
   ]
  },
  {
   "cell_type": "markdown",
   "metadata": {
    "application/vnd.databricks.v1+cell": {
     "cellMetadata": {},
     "inputWidgets": {},
     "nuid": "de03363b-0cf2-41d7-a5c9-79979e052a3a",
     "showTitle": false,
     "title": ""
    }
   },
   "source": [
    "#Column Names check"
   ]
  },
  {
   "cell_type": "code",
   "execution_count": 0,
   "metadata": {
    "application/vnd.databricks.v1+cell": {
     "cellMetadata": {
      "byteLimit": 2048000,
      "rowLimit": 10000
     },
     "inputWidgets": {},
     "nuid": "383758b6-1cb4-45f4-91cb-e356a3ab0a30",
     "showTitle": false,
     "title": ""
    }
   },
   "outputs": [],
   "source": [
    "# Selecting only columns required\n",
    "df_final = df_final.select(selectcols)"
   ]
  },
  {
   "cell_type": "markdown",
   "metadata": {
    "application/vnd.databricks.v1+cell": {
     "cellMetadata": {},
     "inputWidgets": {},
     "nuid": "8c457f4f-0421-4511-a67c-d5346a4429c0",
     "showTitle": false,
     "title": ""
    }
   },
   "source": [
    "#Data integrity Check"
   ]
  },
  {
   "cell_type": "code",
   "execution_count": 0,
   "metadata": {
    "application/vnd.databricks.v1+cell": {
     "cellMetadata": {
      "byteLimit": 2048000,
      "rowLimit": 10000
     },
     "inputWidgets": {},
     "nuid": "9db8eb35-6d89-4824-899a-2fa484e703b9",
     "showTitle": false,
     "title": ""
    }
   },
   "outputs": [
    {
     "output_type": "stream",
     "name": "stdout",
     "output_type": "stream",
     "text": [
      "Valid\n"
     ]
    }
   ],
   "source": [
    "# making sure to not miss any data\n",
    "if sourcecount == (writtencount + reject_count):\n",
    "    print(\"Valid\")\n",
    "else:\n",
    "    print(\"Data missing\")"
   ]
  },
  {
   "cell_type": "code",
   "execution_count": 0,
   "metadata": {
    "application/vnd.databricks.v1+cell": {
     "cellMetadata": {
      "byteLimit": 2048000,
      "rowLimit": 10000
     },
     "inputWidgets": {},
     "nuid": "338584e7-9703-4654-a857-e0b54d2ebce3",
     "showTitle": false,
     "title": ""
    }
   },
   "outputs": [
    {
     "output_type": "stream",
     "name": "stdout",
     "output_type": "stream",
     "text": [
      "Out[114]: '/mnt/dataquaility-data/india/silver/orders/2022/07/04'"
     ]
    }
   ],
   "source": [
    "target_path"
   ]
  },
  {
   "cell_type": "markdown",
   "metadata": {
    "application/vnd.databricks.v1+cell": {
     "cellMetadata": {},
     "inputWidgets": {},
     "nuid": "bbb1fa6c-1297-4d56-8347-f4770c050342",
     "showTitle": false,
     "title": ""
    }
   },
   "source": [
    "#Writing good records to silver layer folder"
   ]
  },
  {
   "cell_type": "code",
   "execution_count": 0,
   "metadata": {
    "application/vnd.databricks.v1+cell": {
     "cellMetadata": {
      "byteLimit": 2048000,
      "rowLimit": 10000
     },
     "inputWidgets": {},
     "nuid": "2fe56dae-10c0-453a-9a23-7d080d64c992",
     "showTitle": false,
     "title": ""
    }
   },
   "outputs": [],
   "source": [
    "# Writing good records\n",
    "df_final.write.mode(\"overwrite\").format(\"parquet\").save(target_path)"
   ]
  },
  {
   "cell_type": "code",
   "execution_count": 0,
   "metadata": {
    "application/vnd.databricks.v1+cell": {
     "cellMetadata": {
      "byteLimit": 2048000,
      "rowLimit": 10000
     },
     "inputWidgets": {},
     "nuid": "b2091e87-9268-49ce-9bd3-ae11d20dee47",
     "showTitle": false,
     "title": ""
    }
   },
   "outputs": [
    {
     "output_type": "stream",
     "name": "stdout",
     "output_type": "stream",
     "text": [
      "Out[116]: '/mnt/dataquaility-data/india/rejected/orders/2022/07/04'"
     ]
    }
   ],
   "source": [
    "pending_path"
   ]
  },
  {
   "cell_type": "markdown",
   "metadata": {
    "application/vnd.databricks.v1+cell": {
     "cellMetadata": {},
     "inputWidgets": {},
     "nuid": "20dfd37b-a419-428b-9ae0-684fa93f811d",
     "showTitle": false,
     "title": ""
    }
   },
   "source": [
    "#Writing rejected records to rejected folder"
   ]
  },
  {
   "cell_type": "code",
   "execution_count": 0,
   "metadata": {
    "application/vnd.databricks.v1+cell": {
     "cellMetadata": {
      "byteLimit": 2048000,
      "rowLimit": 10000
     },
     "inputWidgets": {},
     "nuid": "5bae6ad7-e0b0-44a3-a88a-17d78fab177f",
     "showTitle": false,
     "title": ""
    }
   },
   "outputs": [],
   "source": [
    "# Writing rejected records\n",
    "df_reject.write.mode(\"overwrite\").format(\"csv\").option(\"header\", True).save(pending_path)"
   ]
  },
  {
   "cell_type": "markdown",
   "metadata": {
    "application/vnd.databricks.v1+cell": {
     "cellMetadata": {},
     "inputWidgets": {},
     "nuid": "6306057d-82a2-4881-b71d-8ebc3812f788",
     "showTitle": false,
     "title": ""
    }
   },
   "source": [
    "# Audit table creation"
   ]
  },
  {
   "cell_type": "code",
   "execution_count": 0,
   "metadata": {
    "application/vnd.databricks.v1+cell": {
     "cellMetadata": {
      "byteLimit": 2048000,
      "rowLimit": 10000
     },
     "inputWidgets": {},
     "nuid": "e53bf2a9-bb00-4dfc-9070-c6ca2dfaa69b",
     "showTitle": false,
     "title": ""
    }
   },
   "outputs": [
    {
     "output_type": "stream",
     "name": "stdout",
     "output_type": "stream",
     "text": [
      "+---------+-----------+-----------+------------+--------------------+\n|tablename|sourcecount|rejectcount|writtencount|       loadtimestamp|\n+---------+-----------+-----------+------------+--------------------+\n|   orders|          7|          4|           3|2023-08-09 20:30:...|\n+---------+-----------+-----------+------------+--------------------+\n\n"
     ]
    }
   ],
   "source": [
    "# manually creating an audit table\n",
    "df_audit = spark.createDataFrame([(tablename,sourcecount,reject_count,writtencount)],[\"tablename\", \"sourcecount\", \"rejectcount\", \"writtencount\"])\\\n",
    "    .withColumn(\"loadtimestamp\",current_timestamp())\n",
    "\n",
    "df_audit.show()"
   ]
  },
  {
   "cell_type": "code",
   "execution_count": 0,
   "metadata": {
    "application/vnd.databricks.v1+cell": {
     "cellMetadata": {
      "byteLimit": 2048000,
      "rowLimit": 10000
     },
     "inputWidgets": {},
     "nuid": "84e1cb74-e807-46f7-85df-b9806be5824e",
     "showTitle": false,
     "title": ""
    }
   },
   "outputs": [
    {
     "output_type": "stream",
     "name": "stdout",
     "output_type": "stream",
     "text": [
      "Out[132]: '/mnt/dataquaility-data/india/auditdata/orders/2022/07/04'"
     ]
    }
   ],
   "source": [
    "audit_path"
   ]
  },
  {
   "cell_type": "markdown",
   "metadata": {
    "application/vnd.databricks.v1+cell": {
     "cellMetadata": {},
     "inputWidgets": {},
     "nuid": "9c10da7e-e01b-4c95-916c-b641cee47259",
     "showTitle": false,
     "title": ""
    }
   },
   "source": [
    "#Writing to audit folder"
   ]
  },
  {
   "cell_type": "code",
   "execution_count": 0,
   "metadata": {
    "application/vnd.databricks.v1+cell": {
     "cellMetadata": {
      "byteLimit": 2048000,
      "rowLimit": 10000
     },
     "inputWidgets": {},
     "nuid": "896590f0-d0c5-48c7-ba49-1fe748f36125",
     "showTitle": false,
     "title": ""
    }
   },
   "outputs": [],
   "source": [
    "# writting the audit DF to the audit_path\n",
    "df_audit.write.mode(\"overwrite\").format(\"csv\").option(\"header\",True).save(audit_path)"
   ]
  }
 ],
 "metadata": {
  "application/vnd.databricks.v1+notebook": {
   "dashboards": [],
   "language": "python",
   "notebookMetadata": {
    "pythonIndentUnit": 4
   },
   "notebookName": "End to End Databricks Data Quality project",
   "widgets": {
    "config_filepath": {
     "currentValue": "/mnt/dataquaility-data/india/config/orders.json",
     "nuid": "9a669422-6660-4505-b93e-8fad67923c9e",
     "widgetInfo": {
      "widgetType": "text",
      "defaultValue": "",
      "label": null,
      "name": "config_filepath",
      "options": {
       "widgetType": "text",
       "validationRegex": null
      }
     }
    },
    "processed_date": {
     "currentValue": "2022/07/04",
     "nuid": "f5f73e12-3763-4108-9991-4cb09f9e1e3f",
     "widgetInfo": {
      "widgetType": "text",
      "defaultValue": "",
      "label": null,
      "name": "processed_date",
      "options": {
       "widgetType": "text",
       "validationRegex": null
      }
     }
    }
   }
  }
 },
 "nbformat": 4,
 "nbformat_minor": 0
}
